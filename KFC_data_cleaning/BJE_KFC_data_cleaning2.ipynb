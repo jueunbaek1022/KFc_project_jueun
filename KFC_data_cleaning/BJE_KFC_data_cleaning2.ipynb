{
 "cells": [
  {
   "cell_type": "code",
   "execution_count": 39,
   "metadata": {},
   "outputs": [],
   "source": [
    "import pandas as pd"
   ]
  },
  {
   "cell_type": "code",
   "execution_count": 40,
   "metadata": {},
   "outputs": [],
   "source": [
    "# CSV 파일 읽기 (경로를 본인의 파일 경로로 수정)\n",
    "df = pd.read_csv('price/green_onions_new_try.csv')"
   ]
  },
  {
   "cell_type": "code",
   "execution_count": 41,
   "metadata": {},
   "outputs": [
    {
     "data": {
      "text/html": [
       "<div>\n",
       "<style scoped>\n",
       "    .dataframe tbody tr th:only-of-type {\n",
       "        vertical-align: middle;\n",
       "    }\n",
       "\n",
       "    .dataframe tbody tr th {\n",
       "        vertical-align: top;\n",
       "    }\n",
       "\n",
       "    .dataframe thead th {\n",
       "        text-align: right;\n",
       "    }\n",
       "</style>\n",
       "<table border=\"1\" class=\"dataframe\">\n",
       "  <thead>\n",
       "    <tr style=\"text-align: right;\">\n",
       "      <th></th>\n",
       "      <th>year</th>\n",
       "      <th>Month</th>\n",
       "      <th>Early</th>\n",
       "      <th>Mid</th>\n",
       "      <th>Late</th>\n",
       "    </tr>\n",
       "  </thead>\n",
       "  <tbody>\n",
       "    <tr>\n",
       "      <th>0</th>\n",
       "      <td>2000</td>\n",
       "      <td>January</td>\n",
       "      <td>2707</td>\n",
       "      <td>3369</td>\n",
       "      <td>0</td>\n",
       "    </tr>\n",
       "    <tr>\n",
       "      <th>1</th>\n",
       "      <td>2001</td>\n",
       "      <td>January</td>\n",
       "      <td>2639</td>\n",
       "      <td>2399</td>\n",
       "      <td>2381</td>\n",
       "    </tr>\n",
       "    <tr>\n",
       "      <th>2</th>\n",
       "      <td>2002</td>\n",
       "      <td>January</td>\n",
       "      <td>5233</td>\n",
       "      <td>5722</td>\n",
       "      <td>2258</td>\n",
       "    </tr>\n",
       "    <tr>\n",
       "      <th>3</th>\n",
       "      <td>2003</td>\n",
       "      <td>January</td>\n",
       "      <td>3899</td>\n",
       "      <td>4451</td>\n",
       "      <td>4560</td>\n",
       "    </tr>\n",
       "    <tr>\n",
       "      <th>4</th>\n",
       "      <td>2004</td>\n",
       "      <td>January</td>\n",
       "      <td>3207</td>\n",
       "      <td>3463</td>\n",
       "      <td>3710</td>\n",
       "    </tr>\n",
       "    <tr>\n",
       "      <th>...</th>\n",
       "      <td>...</td>\n",
       "      <td>...</td>\n",
       "      <td>...</td>\n",
       "      <td>...</td>\n",
       "      <td>...</td>\n",
       "    </tr>\n",
       "    <tr>\n",
       "      <th>295</th>\n",
       "      <td>2020</td>\n",
       "      <td>December</td>\n",
       "      <td>6933</td>\n",
       "      <td>7069</td>\n",
       "      <td>8180</td>\n",
       "    </tr>\n",
       "    <tr>\n",
       "      <th>296</th>\n",
       "      <td>2021</td>\n",
       "      <td>December</td>\n",
       "      <td>6096</td>\n",
       "      <td>6313</td>\n",
       "      <td>7008</td>\n",
       "    </tr>\n",
       "    <tr>\n",
       "      <th>297</th>\n",
       "      <td>2022</td>\n",
       "      <td>December</td>\n",
       "      <td>5840</td>\n",
       "      <td>5832</td>\n",
       "      <td>6881</td>\n",
       "    </tr>\n",
       "    <tr>\n",
       "      <th>298</th>\n",
       "      <td>2023</td>\n",
       "      <td>December</td>\n",
       "      <td>8193</td>\n",
       "      <td>10122</td>\n",
       "      <td>11382</td>\n",
       "    </tr>\n",
       "    <tr>\n",
       "      <th>299</th>\n",
       "      <td>2024</td>\n",
       "      <td>December</td>\n",
       "      <td>0</td>\n",
       "      <td>0</td>\n",
       "      <td>0</td>\n",
       "    </tr>\n",
       "  </tbody>\n",
       "</table>\n",
       "<p>300 rows × 5 columns</p>\n",
       "</div>"
      ],
      "text/plain": [
       "     year     Month  Early    Mid   Late\n",
       "0    2000   January   2707   3369      0\n",
       "1    2001   January   2639   2399   2381\n",
       "2    2002   January   5233   5722   2258\n",
       "3    2003   January   3899   4451   4560\n",
       "4    2004   January   3207   3463   3710\n",
       "..    ...       ...    ...    ...    ...\n",
       "295  2020  December   6933   7069   8180\n",
       "296  2021  December   6096   6313   7008\n",
       "297  2022  December   5840   5832   6881\n",
       "298  2023  December   8193  10122  11382\n",
       "299  2024  December      0      0      0\n",
       "\n",
       "[300 rows x 5 columns]"
      ]
     },
     "execution_count": 41,
     "metadata": {},
     "output_type": "execute_result"
    }
   ],
   "source": [
    "df"
   ]
  },
  {
   "cell_type": "code",
   "execution_count": 42,
   "metadata": {},
   "outputs": [],
   "source": [
    "# 데이터를 저장할 리스트 초기화\n",
    "data_list = []"
   ]
  },
  {
   "cell_type": "code",
   "execution_count": 43,
   "metadata": {},
   "outputs": [],
   "source": [
    "# 데이터 변환 작업\n",
    "for index, row in df.iterrows():\n",
    "    year = row['year']\n",
    "    month = row['Month']\n",
    "    \n",
    "    # 각 시기의 데이터를 리스트에 추가\n",
    "    data_list.append({'date': f\"{year}-{month}-Early\", 'data': row['Early']}) \n",
    "    data_list.append({'date': f\"{year}-{month}-Mid\", 'data': row['Mid']}) \n",
    "    data_list.append({'date': f\"{year}-{month}-Late\", 'data': row['Late']}) "
   ]
  },
  {
   "cell_type": "code",
   "execution_count": 44,
   "metadata": {},
   "outputs": [],
   "source": [
    "# 리스트를 DataFrame으로 변환\n",
    "green_onions_transformed_data = pd.DataFrame(data_list)"
   ]
  },
  {
   "cell_type": "code",
   "execution_count": 45,
   "metadata": {},
   "outputs": [
    {
     "name": "stdout",
     "output_type": "stream",
     "text": [
      "                    date   data\n",
      "0     2000-January-Early   2707\n",
      "1       2000-January-Mid   3369\n",
      "2      2000-January-Late      0\n",
      "3     2001-January-Early   2639\n",
      "4       2001-January-Mid   2399\n",
      "..                   ...    ...\n",
      "895    2023-December-Mid  10122\n",
      "896   2023-December-Late  11382\n",
      "897  2024-December-Early      0\n",
      "898    2024-December-Mid      0\n",
      "899   2024-December-Late      0\n",
      "\n",
      "[900 rows x 2 columns]\n"
     ]
    }
   ],
   "source": [
    "# 결과 확인\n",
    "print(green_onions_transformed_data)"
   ]
  },
  {
   "cell_type": "code",
   "execution_count": 46,
   "metadata": {},
   "outputs": [],
   "source": [
    "# 변환된 데이터 저장\n",
    "green_onions_transformed_data.to_csv('green_onions_transformed_data.csv', index=False)"
   ]
  },
  {
   "cell_type": "code",
   "execution_count": null,
   "metadata": {},
   "outputs": [],
   "source": []
  }
 ],
 "metadata": {
  "kernelspec": {
   "display_name": "skl-py312",
   "language": "python",
   "name": "skl-py312"
  },
  "language_info": {
   "codemirror_mode": {
    "name": "ipython",
    "version": 3
   },
   "file_extension": ".py",
   "mimetype": "text/x-python",
   "name": "python",
   "nbconvert_exporter": "python",
   "pygments_lexer": "ipython3",
   "version": "3.12.5"
  }
 },
 "nbformat": 4,
 "nbformat_minor": 2
}
